{
 "cells": [
  {
   "cell_type": "markdown",
   "id": "6e7606c8",
   "metadata": {},
   "source": [
    "Compare run-time for sparse update (gather,scatter as in PyG) vs dense update (fully connected graph, then mask out the non-edge). use a simplified GAT model"
   ]
  },
  {
   "cell_type": "code",
   "execution_count": 1,
   "id": "495b6fe6",
   "metadata": {},
   "outputs": [],
   "source": [
    "import numpy as np\n",
    "import torch\n",
    "import torch.nn as nn\n",
    "from torch_scatter import scatter\n",
    "import time\n",
    "import matplotlib.pylab as plt"
   ]
  },
  {
   "cell_type": "code",
   "execution_count": 2,
   "id": "4269afbf",
   "metadata": {},
   "outputs": [],
   "source": [
    "def sparse2dense(edge_index,v):\n",
    "    # edge_index_dense has dimention (target, source)\n",
    "    edge_index_dense = torch.zeros((v,v),dtype=torch.float32,device=device)\n",
    "    for i in range(edge_index.shape[1]):\n",
    "        edge_index_dense[edge_index[1,i],edge_index[0,i]] = 1.0\n",
    "    return edge_index_dense\n",
    "\n",
    "class GAT(torch.nn.Module):\n",
    "    # no linear_proj as it is the same for sparse vs dense\n",
    "    \n",
    "    def __init__(self,d,v):\n",
    "        super().__init__()\n",
    "        self.v = v\n",
    "        self.scoring_target = nn.Linear(d,1)\n",
    "        self.scoring_source = nn.Linear(d,1)\n",
    "    \n",
    "    def forward(self,x,edge_index,IsSparse):\n",
    "        scores_source = self.scoring_source(x)\n",
    "        scores_target = self.scoring_target(x)\n",
    "        if IsSparse:\n",
    "            scores_source = scores_source.index_select(0, edge_index[0])\n",
    "            scores_target = scores_target.index_select(0, edge_index[1])\n",
    "            x_per_edge = x.index_select(0, edge_index[0])\n",
    "            \n",
    "            scores_per_edge = scores_source + scores_target # E\n",
    "            scores_per_edge = scores_per_edge - scores_per_edge.max()\n",
    "            scores_per_edge = scores_per_edge.exp()\n",
    "            scores_sum = scatter(scores_per_edge,edge_index[1],0,reduce='sum',dim_size=self.v) # V\n",
    "            scores_per_edge = scores_per_edge/(scores_sum.index_select(0, edge_index[1]) + 1e-16) # E\n",
    "            \n",
    "            x_per_edge = x_per_edge * scores_per_edge\n",
    "            x = scatter(x_per_edge,edge_index[1],0,reduce='sum',dim_size=self.v)\n",
    "            return x\n",
    "        else:\n",
    "            # edge_index expected should be in the form of adjacency matrix (target,source), \n",
    "            # edge has value 1 and non-edge has value 0\n",
    "            scores = scores_target + scores_source.squeeze(1) # V,1 * 1,V' -> V,V' \n",
    "            scores = scores - scores.max(1,keepdim=True)[0]\n",
    "            scores = edge_index * scores.exp() # mask out non-edge\n",
    "            scores = scores/(scores.sum(1,keepdim=True) + 1e-16)\n",
    "            x = torch.matmul(scores,x)\n",
    "            return x"
   ]
  },
  {
   "cell_type": "code",
   "execution_count": 5,
   "id": "923a3951",
   "metadata": {},
   "outputs": [],
   "source": [
    "v = 5  # node\n",
    "d = 30 # node feature\n",
    "sparsity = 0.2\n",
    "device = 'cuda'"
   ]
  },
  {
   "cell_type": "code",
   "execution_count": 18,
   "id": "a006a1c7",
   "metadata": {},
   "outputs": [],
   "source": [
    "edge_index_sparse = torch.Tensor(np.random.choice(v,(2,int(v*v*sparsity)))).long().to(device)\n",
    "edge_index_dense = sparse2dense(edge_index_sparse,v)\n",
    "# \"requires_grad=True\" to minic backward pass in training\n",
    "x = torch.rand(v,d,dtype=torch.float32,requires_grad=True,device=device)"
   ]
  },
  {
   "cell_type": "code",
   "execution_count": null,
   "id": "334f41d8",
   "metadata": {},
   "outputs": [],
   "source": []
  },
  {
   "cell_type": "markdown",
   "id": "1da65d8b",
   "metadata": {},
   "source": [
    "Check sparse and dense update give the same results. In my experiment, when v is large (100), there are some numerical issue, the max difference between the two implementation is kind of large. "
   ]
  },
  {
   "cell_type": "code",
   "execution_count": 19,
   "id": "bf515e17",
   "metadata": {},
   "outputs": [
    {
     "data": {
      "text/plain": [
       "tensor(5.9605e-08, device='cuda:0', grad_fn=<MaxBackward1>)"
      ]
     },
     "execution_count": 19,
     "metadata": {},
     "output_type": "execute_result"
    }
   ],
   "source": [
    "gat = GAT(d,v).to(device)\n",
    "out = gat(x,edge_index_dense,False)\n",
    "out2 = gat(x,edge_index_sparse,True)\n",
    "(out-out2).abs().max()"
   ]
  },
  {
   "cell_type": "code",
   "execution_count": null,
   "id": "6eeb828e",
   "metadata": {},
   "outputs": [],
   "source": []
  },
  {
   "cell_type": "code",
   "execution_count": 3,
   "id": "d7d8a5f0",
   "metadata": {},
   "outputs": [],
   "source": [
    "def timer(v,d,sparsity,repeats=20):\n",
    "    edge_index_sparse = torch.Tensor(np.random.choice(v,(2,int(v*v*sparsity)))).long().to(device)\n",
    "    edge_index_dense = sparse2dense(edge_index_sparse,v)\n",
    "    x = torch.rand(v,d,dtype=torch.float32,requires_grad=True,device=device)\n",
    "    gat = GAT(d,v).to(device)\n",
    "    \n",
    "    # dense\n",
    "    t1 = time.time()\n",
    "    for _ in range(repeats):\n",
    "        gat(x,edge_index_dense,False).mean().backward() # fake objective just to run forward and backward path\n",
    "    t2 = time.time()\n",
    "    dense_time = t2 - t1\n",
    "    \n",
    "    # sparse\n",
    "    t1 = time.time()\n",
    "    for _ in range(repeats):\n",
    "        gat(x,edge_index_sparse,True).mean().backward() # fake objective just to run forward and backward path\n",
    "    t2 = time.time()\n",
    "    sparse_time = t2 - t1   \n",
    "    return sparse_time-dense_time"
   ]
  },
  {
   "cell_type": "code",
   "execution_count": null,
   "id": "c51f6e09",
   "metadata": {},
   "outputs": [],
   "source": []
  },
  {
   "cell_type": "markdown",
   "id": "749dc8c6",
   "metadata": {},
   "source": [
    "Try a few different setup for v,d. I was expecting to see sparse_time-dense_time to increase as sparsity increases, i.e. as graph gets dense, sparse update will take longer compared to dense. but this is not always the case.. I suspect this is due to overhead for those functions when v,d are small"
   ]
  },
  {
   "cell_type": "code",
   "execution_count": 6,
   "id": "3d32ac8b",
   "metadata": {},
   "outputs": [],
   "source": [
    "out = np.array([(0.01+i/10,timer(100,40,0.01+i/10)) for i in range(10)])"
   ]
  },
  {
   "cell_type": "code",
   "execution_count": 7,
   "id": "ee66c56c",
   "metadata": {},
   "outputs": [
    {
     "data": {
      "text/plain": [
       "<matplotlib.collections.PathCollection at 0x7faef00ce490>"
      ]
     },
     "execution_count": 7,
     "metadata": {},
     "output_type": "execute_result"
    },
    {
     "data": {
      "image/png": "[encoded data removed]",
      "text/plain": [
       "<Figure size 432x288 with 1 Axes>"
      ]
     },
     "metadata": {
      "needs_background": "light"
     },
     "output_type": "display_data"
    }
   ],
   "source": [
    "plt.scatter(out[:,0],out[:,1])"
   ]
  },
  {
   "cell_type": "code",
   "execution_count": 8,
   "id": "a0244915",
   "metadata": {},
   "outputs": [
    {
     "data": {
      "text/plain": [
       "array([-0.61692262,  0.00294065,  0.00263262,  0.00301218,  0.00229335,\n",
       "        0.00192618,  0.00199628,  0.00208831,  0.00177073,  0.00181222])"
      ]
     },
     "execution_count": 8,
     "metadata": {},
     "output_type": "execute_result"
    }
   ],
   "source": [
    "out[:,1]"
   ]
  },
  {
   "cell_type": "code",
   "execution_count": null,
   "id": "9416e1bc",
   "metadata": {},
   "outputs": [],
   "source": []
  },
  {
   "cell_type": "code",
   "execution_count": 9,
   "id": "0b88ccae",
   "metadata": {},
   "outputs": [],
   "source": [
    "out = np.array([(0.01+i/10,timer(1000,40,0.01+i/10)) for i in range(10)])"
   ]
  },
  {
   "cell_type": "code",
   "execution_count": 10,
   "id": "6fb3ca84",
   "metadata": {},
   "outputs": [
    {
     "data": {
      "text/plain": [
       "<matplotlib.collections.PathCollection at 0x7faead7b9970>"
      ]
     },
     "execution_count": 10,
     "metadata": {},
     "output_type": "execute_result"
    },
    {
     "data": {
      "image/png": "[encoded data removed]",
      "text/plain": [
       "<Figure size 432x288 with 1 Axes>"
      ]
     },
     "metadata": {
      "needs_background": "light"
     },
     "output_type": "display_data"
    }
   ],
   "source": [
    "plt.scatter(out[:,0],out[:,1])"
   ]
  },
  {
   "cell_type": "code",
   "execution_count": null,
   "id": "339c3a9c",
   "metadata": {},
   "outputs": [],
   "source": []
  },
  {
   "cell_type": "code",
   "execution_count": 11,
   "id": "3a229b8e",
   "metadata": {},
   "outputs": [],
   "source": [
    "out = np.array([(0.01+i/10,timer(100,100,0.01+i/10)) for i in range(10)])"
   ]
  },
  {
   "cell_type": "code",
   "execution_count": 12,
   "id": "36287213",
   "metadata": {},
   "outputs": [
    {
     "data": {
      "text/plain": [
       "<matplotlib.collections.PathCollection at 0x7faeac326fa0>"
      ]
     },
     "execution_count": 12,
     "metadata": {},
     "output_type": "execute_result"
    },
    {
     "data": {
      "image/png": "[encoded data removed]",
      "text/plain": [
       "<Figure size 432x288 with 1 Axes>"
      ]
     },
     "metadata": {
      "needs_background": "light"
     },
     "output_type": "display_data"
    }
   ],
   "source": [
    "plt.scatter(out[:,0],out[:,1])"
   ]
  },
  {
   "cell_type": "code",
   "execution_count": null,
   "id": "382c900b",
   "metadata": {},
   "outputs": [],
   "source": []
  },
  {
   "cell_type": "code",
   "execution_count": null,
   "id": "e25a4436",
   "metadata": {},
   "outputs": [],
   "source": []
  }
 ],
 "metadata": {
  "kernelspec": {
   "display_name": "Python 3 (ipykernel)",
   "language": "python",
   "name": "python3"
  },
  "language_info": {
   "codemirror_mode": {
    "name": "ipython",
    "version": 3
   },
   "file_extension": ".py",
   "mimetype": "text/x-python",
   "name": "python",
   "nbconvert_exporter": "python",
   "pygments_lexer": "ipython3",
   "version": "3.8.10"
  }
 },
 "nbformat": 4,
 "nbformat_minor": 5
}
